{
 "cells": [
  {
   "cell_type": "code",
   "execution_count": 1,
   "id": "d9a92a5c",
   "metadata": {
    "ExecuteTime": {
     "end_time": "2023-05-10T17:56:07.200943Z",
     "start_time": "2023-05-10T17:56:06.665823Z"
    }
   },
   "outputs": [],
   "source": [
    "import sklearn.feature_extraction.text as sk_txt\n",
    "from sklearn.datasets import fetch_20newsgroups\n",
    "\n",
    "from sklearn.model_selection import train_test_split\n",
    "from sklearn.naive_bayes import MultinomialNB\n",
    "\n",
    "from sklearn.metrics import classification_report"
   ]
  },
  {
   "cell_type": "code",
   "execution_count": 2,
   "id": "3658d9d2",
   "metadata": {
    "ExecuteTime": {
     "end_time": "2023-05-10T17:56:07.389986Z",
     "start_time": "2023-05-10T17:56:07.201943Z"
    }
   },
   "outputs": [],
   "source": [
    "data = fetch_20newsgroups()"
   ]
  },
  {
   "cell_type": "code",
   "execution_count": 3,
   "id": "527d0ca7",
   "metadata": {
    "ExecuteTime": {
     "end_time": "2023-05-10T17:56:07.405989Z",
     "start_time": "2023-05-10T17:56:07.390985Z"
    }
   },
   "outputs": [
    {
     "data": {
      "text/plain": [
       "sklearn.utils._bunch.Bunch"
      ]
     },
     "execution_count": 3,
     "metadata": {},
     "output_type": "execute_result"
    }
   ],
   "source": [
    "type(data)"
   ]
  },
  {
   "cell_type": "code",
   "execution_count": 4,
   "id": "c8e378cd",
   "metadata": {
    "ExecuteTime": {
     "end_time": "2023-05-10T17:56:07.421993Z",
     "start_time": "2023-05-10T17:56:07.407991Z"
    }
   },
   "outputs": [
    {
     "data": {
      "text/plain": [
       "['alt.atheism',\n",
       " 'comp.graphics',\n",
       " 'comp.os.ms-windows.misc',\n",
       " 'comp.sys.ibm.pc.hardware',\n",
       " 'comp.sys.mac.hardware',\n",
       " 'comp.windows.x',\n",
       " 'misc.forsale',\n",
       " 'rec.autos',\n",
       " 'rec.motorcycles',\n",
       " 'rec.sport.baseball',\n",
       " 'rec.sport.hockey',\n",
       " 'sci.crypt',\n",
       " 'sci.electronics',\n",
       " 'sci.med',\n",
       " 'sci.space',\n",
       " 'soc.religion.christian',\n",
       " 'talk.politics.guns',\n",
       " 'talk.politics.mideast',\n",
       " 'talk.politics.misc',\n",
       " 'talk.religion.misc']"
      ]
     },
     "execution_count": 4,
     "metadata": {},
     "output_type": "execute_result"
    }
   ],
   "source": [
    "data.target_names"
   ]
  },
  {
   "cell_type": "code",
   "execution_count": 5,
   "id": "b02d363f",
   "metadata": {
    "ExecuteTime": {
     "end_time": "2023-05-10T17:56:07.437998Z",
     "start_time": "2023-05-10T17:56:07.422994Z"
    }
   },
   "outputs": [],
   "source": [
    "categories = [\n",
    "    'rec.motorcycles', \n",
    "    'sci.crypt',\n",
    "    'sci.space',\n",
    "    'rec.sport.hockey',\n",
    "]"
   ]
  },
  {
   "cell_type": "code",
   "execution_count": 6,
   "id": "e69f1336",
   "metadata": {
    "ExecuteTime": {
     "end_time": "2023-05-10T17:56:07.453001Z",
     "start_time": "2023-05-10T17:56:07.438996Z"
    }
   },
   "outputs": [
    {
     "data": {
      "text/plain": [
       "11314"
      ]
     },
     "execution_count": 6,
     "metadata": {},
     "output_type": "execute_result"
    }
   ],
   "source": [
    "len(data.data)"
   ]
  },
  {
   "cell_type": "code",
   "execution_count": 7,
   "id": "08bd9fc3",
   "metadata": {
    "ExecuteTime": {
     "end_time": "2023-05-10T17:56:07.468003Z",
     "start_time": "2023-05-10T17:56:07.454000Z"
    }
   },
   "outputs": [
    {
     "name": "stdout",
     "output_type": "stream",
     "text": [
      "From: lerxst@wam.umd.edu (where's my thing)\n",
      "Subject: WHAT car is this!?\n",
      "Nntp-Posting-Host: rac3.wam.umd.edu\n",
      "Organization: University of Maryland, College Park\n",
      "Lines: 15\n",
      "\n",
      " I was wondering if anyone out there could enlighten me on this car I saw\n",
      "the other day. It was a 2-door sports car, looked to be from the late 60s/\n",
      "early 70s. It was called a Bricklin. The doors were really small. In addition,\n",
      "the front bumper was separate from the rest of the body. This is \n",
      "all I know. If anyone can tellme a model name, engine specs, years\n",
      "of production, where this car is made, history, or whatever info you\n",
      "have on this funky looking car, please e-mail.\n",
      "\n",
      "Thanks,\n",
      "- IL\n",
      "   ---- brought to you by your neighborhood Lerxst ----\n",
      "\n",
      "\n",
      "\n",
      "\n",
      "\n"
     ]
    }
   ],
   "source": [
    "print(data.data[0])"
   ]
  },
  {
   "cell_type": "code",
   "execution_count": 8,
   "id": "090d2bc0",
   "metadata": {
    "ExecuteTime": {
     "end_time": "2023-05-10T17:56:07.660046Z",
     "start_time": "2023-05-10T17:56:07.470004Z"
    }
   },
   "outputs": [],
   "source": [
    "data =  fetch_20newsgroups(categories=categories)"
   ]
  },
  {
   "cell_type": "code",
   "execution_count": 9,
   "id": "143e9203",
   "metadata": {
    "ExecuteTime": {
     "end_time": "2023-05-10T17:56:07.676050Z",
     "start_time": "2023-05-10T17:56:07.661047Z"
    }
   },
   "outputs": [
    {
     "data": {
      "text/plain": [
       "['rec.motorcycles', 'rec.sport.hockey', 'sci.crypt', 'sci.space']"
      ]
     },
     "execution_count": 9,
     "metadata": {},
     "output_type": "execute_result"
    }
   ],
   "source": [
    "data.target_names"
   ]
  },
  {
   "cell_type": "code",
   "execution_count": 10,
   "id": "f3bab1ca",
   "metadata": {
    "ExecuteTime": {
     "end_time": "2023-05-10T17:56:33.737644Z",
     "start_time": "2023-05-10T17:56:33.720640Z"
    }
   },
   "outputs": [
    {
     "name": "stdout",
     "output_type": "stream",
     "text": [
      "From: azw@aber.ac.uk (Andy Woodward)\n",
      "Subject: Re: Its still cold, but...\n",
      "Organization: University College of Wales, Aberystwyth\n",
      "Lines: 13\n",
      "Nntp-Posting-Host: 144.124.112.30\n",
      "\n",
      "\n",
      ">> \n",
      ">> One thing is certain, though, its still too cold.  After about 40\n",
      ">> minutes, I had to stop and hold my muffler for a while.  \n",
      "\n",
      "Be VERY careful about this. If youre really cold the muffler will\n",
      "feel fine till you leave all the charred skin on it when you peel\n",
      "your hands off - I speak from experience. You can also do all \n",
      "kindsa (Americanism of the day) damage to your circulation warming \n",
      "hands up on something too hot. By far the best (fastest and safest)\n",
      "way to do it is to shove the hands up the opposit sleeves and\n",
      "stand there like a Ming emporer for a while. Five minutes should \n",
      "do it.\n",
      "\n"
     ]
    }
   ],
   "source": [
    "print(data.data[42])"
   ]
  },
  {
   "cell_type": "code",
   "execution_count": 11,
   "id": "59a0a6d8",
   "metadata": {
    "ExecuteTime": {
     "end_time": "2023-05-10T17:56:07.707058Z",
     "start_time": "2023-05-10T17:56:07.692053Z"
    }
   },
   "outputs": [],
   "source": [
    "cv = sk_txt.CountVectorizer(stop_words='english')"
   ]
  },
  {
   "cell_type": "code",
   "execution_count": 12,
   "id": "cf3b5227",
   "metadata": {
    "ExecuteTime": {
     "end_time": "2023-05-10T17:56:08.264182Z",
     "start_time": "2023-05-10T17:56:07.708057Z"
    }
   },
   "outputs": [],
   "source": [
    "X = cv.fit_transform(data.data).toarray()"
   ]
  },
  {
   "cell_type": "code",
   "execution_count": 13,
   "id": "63df4060",
   "metadata": {
    "ExecuteTime": {
     "end_time": "2023-05-10T17:56:08.280186Z",
     "start_time": "2023-05-10T17:56:08.265183Z"
    }
   },
   "outputs": [],
   "source": [
    "nb = MultinomialNB()"
   ]
  },
  {
   "cell_type": "code",
   "execution_count": null,
   "id": "a430808f",
   "metadata": {},
   "outputs": [],
   "source": []
  },
  {
   "cell_type": "code",
   "execution_count": null,
   "id": "aa1472fa",
   "metadata": {},
   "outputs": [],
   "source": []
  },
  {
   "cell_type": "code",
   "execution_count": null,
   "id": "215605f3",
   "metadata": {},
   "outputs": [],
   "source": []
  },
  {
   "cell_type": "code",
   "execution_count": 14,
   "id": "0e7101b0",
   "metadata": {
    "ExecuteTime": {
     "end_time": "2023-05-10T18:02:28.727427Z",
     "start_time": "2023-05-10T18:02:28.516378Z"
    }
   },
   "outputs": [],
   "source": [
    "X_train, X_test, y_train, y_test = train_test_split(X, data.target, test_size=0.3)"
   ]
  },
  {
   "cell_type": "code",
   "execution_count": 15,
   "id": "3df05040",
   "metadata": {
    "ExecuteTime": {
     "end_time": "2023-05-10T18:02:49.129558Z",
     "start_time": "2023-05-10T18:02:48.339381Z"
    }
   },
   "outputs": [
    {
     "data": {
      "text/html": [
       "<style>#sk-container-id-1 {color: black;background-color: white;}#sk-container-id-1 pre{padding: 0;}#sk-container-id-1 div.sk-toggleable {background-color: white;}#sk-container-id-1 label.sk-toggleable__label {cursor: pointer;display: block;width: 100%;margin-bottom: 0;padding: 0.3em;box-sizing: border-box;text-align: center;}#sk-container-id-1 label.sk-toggleable__label-arrow:before {content: \"▸\";float: left;margin-right: 0.25em;color: #696969;}#sk-container-id-1 label.sk-toggleable__label-arrow:hover:before {color: black;}#sk-container-id-1 div.sk-estimator:hover label.sk-toggleable__label-arrow:before {color: black;}#sk-container-id-1 div.sk-toggleable__content {max-height: 0;max-width: 0;overflow: hidden;text-align: left;background-color: #f0f8ff;}#sk-container-id-1 div.sk-toggleable__content pre {margin: 0.2em;color: black;border-radius: 0.25em;background-color: #f0f8ff;}#sk-container-id-1 input.sk-toggleable__control:checked~div.sk-toggleable__content {max-height: 200px;max-width: 100%;overflow: auto;}#sk-container-id-1 input.sk-toggleable__control:checked~label.sk-toggleable__label-arrow:before {content: \"▾\";}#sk-container-id-1 div.sk-estimator input.sk-toggleable__control:checked~label.sk-toggleable__label {background-color: #d4ebff;}#sk-container-id-1 div.sk-label input.sk-toggleable__control:checked~label.sk-toggleable__label {background-color: #d4ebff;}#sk-container-id-1 input.sk-hidden--visually {border: 0;clip: rect(1px 1px 1px 1px);clip: rect(1px, 1px, 1px, 1px);height: 1px;margin: -1px;overflow: hidden;padding: 0;position: absolute;width: 1px;}#sk-container-id-1 div.sk-estimator {font-family: monospace;background-color: #f0f8ff;border: 1px dotted black;border-radius: 0.25em;box-sizing: border-box;margin-bottom: 0.5em;}#sk-container-id-1 div.sk-estimator:hover {background-color: #d4ebff;}#sk-container-id-1 div.sk-parallel-item::after {content: \"\";width: 100%;border-bottom: 1px solid gray;flex-grow: 1;}#sk-container-id-1 div.sk-label:hover label.sk-toggleable__label {background-color: #d4ebff;}#sk-container-id-1 div.sk-serial::before {content: \"\";position: absolute;border-left: 1px solid gray;box-sizing: border-box;top: 0;bottom: 0;left: 50%;z-index: 0;}#sk-container-id-1 div.sk-serial {display: flex;flex-direction: column;align-items: center;background-color: white;padding-right: 0.2em;padding-left: 0.2em;position: relative;}#sk-container-id-1 div.sk-item {position: relative;z-index: 1;}#sk-container-id-1 div.sk-parallel {display: flex;align-items: stretch;justify-content: center;background-color: white;position: relative;}#sk-container-id-1 div.sk-item::before, #sk-container-id-1 div.sk-parallel-item::before {content: \"\";position: absolute;border-left: 1px solid gray;box-sizing: border-box;top: 0;bottom: 0;left: 50%;z-index: -1;}#sk-container-id-1 div.sk-parallel-item {display: flex;flex-direction: column;z-index: 1;position: relative;background-color: white;}#sk-container-id-1 div.sk-parallel-item:first-child::after {align-self: flex-end;width: 50%;}#sk-container-id-1 div.sk-parallel-item:last-child::after {align-self: flex-start;width: 50%;}#sk-container-id-1 div.sk-parallel-item:only-child::after {width: 0;}#sk-container-id-1 div.sk-dashed-wrapped {border: 1px dashed gray;margin: 0 0.4em 0.5em 0.4em;box-sizing: border-box;padding-bottom: 0.4em;background-color: white;}#sk-container-id-1 div.sk-label label {font-family: monospace;font-weight: bold;display: inline-block;line-height: 1.2em;}#sk-container-id-1 div.sk-label-container {text-align: center;}#sk-container-id-1 div.sk-container {/* jupyter's `normalize.less` sets `[hidden] { display: none; }` but bootstrap.min.css set `[hidden] { display: none !important; }` so we also need the `!important` here to be able to override the default hidden behavior on the sphinx rendered scikit-learn.org. See: https://github.com/scikit-learn/scikit-learn/issues/21755 */display: inline-block !important;position: relative;}#sk-container-id-1 div.sk-text-repr-fallback {display: none;}</style><div id=\"sk-container-id-1\" class=\"sk-top-container\"><div class=\"sk-text-repr-fallback\"><pre>MultinomialNB()</pre><b>In a Jupyter environment, please rerun this cell to show the HTML representation or trust the notebook. <br />On GitHub, the HTML representation is unable to render, please try loading this page with nbviewer.org.</b></div><div class=\"sk-container\" hidden><div class=\"sk-item\"><div class=\"sk-estimator sk-toggleable\"><input class=\"sk-toggleable__control sk-hidden--visually\" id=\"sk-estimator-id-1\" type=\"checkbox\" checked><label for=\"sk-estimator-id-1\" class=\"sk-toggleable__label sk-toggleable__label-arrow\">MultinomialNB</label><div class=\"sk-toggleable__content\"><pre>MultinomialNB()</pre></div></div></div></div></div>"
      ],
      "text/plain": [
       "MultinomialNB()"
      ]
     },
     "execution_count": 15,
     "metadata": {},
     "output_type": "execute_result"
    }
   ],
   "source": [
    "nb.fit(X_train, y_train)"
   ]
  },
  {
   "cell_type": "code",
   "execution_count": 16,
   "id": "d639e087",
   "metadata": {
    "ExecuteTime": {
     "end_time": "2023-05-10T18:08:31.830731Z",
     "start_time": "2023-05-10T18:08:31.727708Z"
    }
   },
   "outputs": [],
   "source": [
    "y_pred = nb.predict(X_test)"
   ]
  },
  {
   "cell_type": "code",
   "execution_count": 17,
   "id": "3cce6591",
   "metadata": {
    "ExecuteTime": {
     "end_time": "2023-05-10T18:08:54.562009Z",
     "start_time": "2023-05-10T18:08:54.543006Z"
    }
   },
   "outputs": [],
   "source": [
    "report_cv = classification_report(y_test, y_pred)"
   ]
  },
  {
   "cell_type": "code",
   "execution_count": 18,
   "id": "a7e138b4",
   "metadata": {
    "ExecuteTime": {
     "end_time": "2023-05-10T18:09:00.945660Z",
     "start_time": "2023-05-10T18:09:00.927657Z"
    }
   },
   "outputs": [
    {
     "name": "stdout",
     "output_type": "stream",
     "text": [
      "              precision    recall  f1-score   support\n",
      "\n",
      "           0       0.99      0.99      0.99       177\n",
      "           1       0.99      1.00      0.99       180\n",
      "           2       1.00      0.99      0.99       175\n",
      "           3       0.99      0.99      0.99       184\n",
      "\n",
      "    accuracy                           0.99       716\n",
      "   macro avg       0.99      0.99      0.99       716\n",
      "weighted avg       0.99      0.99      0.99       716\n",
      "\n"
     ]
    }
   ],
   "source": [
    "print(report_cv)"
   ]
  },
  {
   "cell_type": "code",
   "execution_count": 19,
   "id": "d2f2d825",
   "metadata": {
    "ExecuteTime": {
     "end_time": "2023-05-10T18:17:25.203052Z",
     "start_time": "2023-05-10T18:17:25.194050Z"
    }
   },
   "outputs": [],
   "source": [
    "from sklearn.metrics import confusion_matrix"
   ]
  },
  {
   "cell_type": "code",
   "execution_count": 20,
   "id": "9c47d3fd",
   "metadata": {
    "ExecuteTime": {
     "end_time": "2023-05-10T18:17:38.750099Z",
     "start_time": "2023-05-10T18:17:38.730095Z"
    }
   },
   "outputs": [
    {
     "data": {
      "text/plain": [
       "array([[176,   0,   0,   1],\n",
       "       [  0, 180,   0,   0],\n",
       "       [  1,   1, 173,   0],\n",
       "       [  0,   1,   0, 183]], dtype=int64)"
      ]
     },
     "execution_count": 20,
     "metadata": {},
     "output_type": "execute_result"
    }
   ],
   "source": [
    "confusion_matrix(y_test, y_pred)"
   ]
  },
  {
   "cell_type": "code",
   "execution_count": 21,
   "id": "f1df2f55",
   "metadata": {
    "ExecuteTime": {
     "end_time": "2023-05-10T18:23:29.782882Z",
     "start_time": "2023-05-10T18:23:29.765878Z"
    }
   },
   "outputs": [
    {
     "name": "stdout",
     "output_type": "stream",
     "text": [
      "[0 0 0 ... 0 0 0]\n"
     ]
    }
   ],
   "source": [
    "print(X_test[2])"
   ]
  },
  {
   "cell_type": "code",
   "execution_count": 22,
   "id": "69960cc5",
   "metadata": {
    "ExecuteTime": {
     "end_time": "2023-05-10T18:25:54.913365Z",
     "start_time": "2023-05-10T18:25:54.900362Z"
    }
   },
   "outputs": [
    {
     "name": "stdout",
     "output_type": "stream",
     "text": [
      "From: anthonyf@microsoft.com (Anthony Francisco)\n",
      "Subject: Re: Clipper and Ranting Libertarians\n",
      "Organization: Microsoft Corp.\n",
      "Keywords: clipper clinton rant rave libertarians\n",
      "Distribution: usa\n",
      "Lines: 11\n",
      "\n",
      "Just a little nitpicking. Wasn't it the government that required\n",
      "a standard railway gauge ? Didn't that improve things ?\n",
      "\n",
      "Please don't misunderstand. I'm utter suspicious of this Clipper\n",
      "chip. Why hold the design TOP SECRET ? Was this a work around the\n",
      "law that says that any discoveries made by people working for the\n",
      "government is public domain. ( e.g. NIH Class Library, etc. )\n",
      "DES has its designs published all over the place and it is considered\n",
      "fairly strong ( although could be stronger ).\n",
      "\n",
      "\t\t\t\t\t\t\t- Ants\n",
      "\n"
     ]
    }
   ],
   "source": [
    "print(data.data[-5])"
   ]
  },
  {
   "cell_type": "code",
   "execution_count": 23,
   "id": "28a61150",
   "metadata": {
    "ExecuteTime": {
     "end_time": "2023-05-10T18:25:43.941317Z",
     "start_time": "2023-05-10T18:25:43.924313Z"
    }
   },
   "outputs": [
    {
     "data": {
      "text/plain": [
       "1"
      ]
     },
     "execution_count": 23,
     "metadata": {},
     "output_type": "execute_result"
    }
   ],
   "source": [
    "y_pred[-5]"
   ]
  },
  {
   "cell_type": "code",
   "execution_count": 24,
   "id": "72cc702a",
   "metadata": {
    "ExecuteTime": {
     "end_time": "2023-05-10T18:24:50.478592Z",
     "start_time": "2023-05-10T18:24:50.469589Z"
    }
   },
   "outputs": [
    {
     "data": {
      "text/plain": [
       "['rec.motorcycles', 'rec.sport.hockey', 'sci.crypt', 'sci.space']"
      ]
     },
     "execution_count": 24,
     "metadata": {},
     "output_type": "execute_result"
    }
   ],
   "source": [
    "data.target_names"
   ]
  },
  {
   "cell_type": "code",
   "execution_count": 25,
   "id": "1ef46b24",
   "metadata": {
    "ExecuteTime": {
     "end_time": "2023-05-10T18:29:54.626772Z",
     "start_time": "2023-05-10T18:29:54.610767Z"
    }
   },
   "outputs": [
    {
     "data": {
      "text/plain": [
       "'rec.sport.hockey'"
      ]
     },
     "execution_count": 25,
     "metadata": {},
     "output_type": "execute_result"
    }
   ],
   "source": [
    "data.target_names[y_pred[-5]]"
   ]
  },
  {
   "cell_type": "code",
   "execution_count": 26,
   "id": "ec414d3c",
   "metadata": {
    "ExecuteTime": {
     "end_time": "2023-05-10T18:30:11.046497Z",
     "start_time": "2023-05-10T18:30:11.041496Z"
    },
    "scrolled": true
   },
   "outputs": [
    {
     "data": {
      "text/plain": [
       "'rec.sport.hockey'"
      ]
     },
     "execution_count": 26,
     "metadata": {},
     "output_type": "execute_result"
    }
   ],
   "source": [
    "data.target_names[y_test[-5]]"
   ]
  },
  {
   "cell_type": "code",
   "execution_count": 27,
   "id": "450aa732",
   "metadata": {
    "ExecuteTime": {
     "end_time": "2023-05-10T18:30:43.337620Z",
     "start_time": "2023-05-10T18:30:43.329618Z"
    }
   },
   "outputs": [
    {
     "data": {
      "text/plain": [
       "2"
      ]
     },
     "execution_count": 27,
     "metadata": {},
     "output_type": "execute_result"
    }
   ],
   "source": [
    "data.target[-5]"
   ]
  },
  {
   "cell_type": "code",
   "execution_count": 28,
   "id": "80cdc0bf",
   "metadata": {
    "ExecuteTime": {
     "end_time": "2023-05-10T18:30:26.522405Z",
     "start_time": "2023-05-10T18:30:26.514404Z"
    }
   },
   "outputs": [
    {
     "data": {
      "text/plain": [
       "\"From: anthonyf@microsoft.com (Anthony Francisco)\\nSubject: Re: Clipper and Ranting Libertarians\\nOrganization: Microsoft Corp.\\nKeywords: clipper clinton rant rave libertarians\\nDistribution: usa\\nLines: 11\\n\\nJust a little nitpicking. Wasn't it the government that required\\na standard railway gauge ? Didn't that improve things ?\\n\\nPlease don't misunderstand. I'm utter suspicious of this Clipper\\nchip. Why hold the design TOP SECRET ? Was this a work around the\\nlaw that says that any discoveries made by people working for the\\ngovernment is public domain. ( e.g. NIH Class Library, etc. )\\nDES has its designs published all over the place and it is considered\\nfairly strong ( although could be stronger ).\\n\\n\\t\\t\\t\\t\\t\\t\\t- Ants\\n\""
      ]
     },
     "execution_count": 28,
     "metadata": {},
     "output_type": "execute_result"
    }
   ],
   "source": [
    "data.data[-5]"
   ]
  },
  {
   "cell_type": "code",
   "execution_count": 29,
   "id": "be9921bc",
   "metadata": {
    "ExecuteTime": {
     "end_time": "2023-05-10T18:29:46.558955Z",
     "start_time": "2023-05-10T18:29:46.546952Z"
    }
   },
   "outputs": [
    {
     "data": {
      "text/plain": [
       "\"From: games@max.u.washington.edu\\nSubject: SSTO Senatorial (aide) breifing recollections.\\nArticle-I.D.: max.1993Apr6.125512.1\\nDistribution: world\\nLines: 78\\nNNTP-Posting-Host: max.u.washington.edu\\n\\nThe following are my thoughts on a meeting that I, Hugh Kelso, and Bob Lilly\\nhad with an aide of Sen. Patty Murrays.  We were there to discuss SSTO, and\\ncommercial space.  This is how it went...\\n\\n\\n\\nAfter receiving a packet containing a presentation on the benifits of SSTO,\\nI called and tried to schedule a meeting with our local Senator (D) Patty\\nMurray, Washington State.  I started asking for an hour, and when I heard\\nthe gasp on the end of the phone, I quickly backed off to 1/2 an hour.\\nLater in that conversation, I learned that a standard appointment is 15 minutes.\\n\\nWe got the standard bozo treatment.  That is, we were called back by an aide,\\nwho scheduled a meeting with us, in order to determine that we were not\\nbozos, and to familiarize himself with the material, and to screen it, to \\nmake sure that it was appropriate to take the senators time with that material.\\n\\nWell, I got allocated 1/2 hour with Sen. Murrays aide, and we ended up talking\\nto him for 45 minutes, with us ending the meeting, and him still listening.\\nWe covered a lot of ground, and only a little tiny bit was DCX specific.  \\nMost of it was a single stage reusable vehicle primer.  There was another\\nwoman there who took copius quantities of notes on EVERY topic that\\nwe brought up.\\n\\nBut, with Murray being new, we wanted to entrench ourselves as non-corporate\\naligned (I.E. not speaking for boeing) local citizens interentested in space.\\nSo, we spent a lot of time covering the benifits of lower cost access to\\nLEO.  Solar power satellites are a big focus here, so we hit them as becoming \\nfeasible with lower cost access, and we hit the environmental stand on that.\\nWe hit the tourism angle, and I left a copy of the patric Collins Tourism\\npaper, with side notes being that everyone who goes into space, and sees the\\natmosphere becomes more of an environmentalist, esp. after SEEING the smog\\nover L.A.  We hit on the benifits of studying bone decalcification (which is \\nmore pronounced in space, and said that that had POTENTIAL to lead to \\nunderstanding of, and MAYBE a cure for osteoporosis.  We hit the education \\nwhereby kids get enthused by space, but as they get older and find out that\\nthey havent a hop in hell of actually getting there, they go on to other\\nfields, with low cost to orbit, the chances they might get there someday \\nwould provide greater incentive to hit the harder classes needed.\\n\\nWe hit a little of the get nasa out of the operational launch vehicle business\\nangle.  We hit the lower cost of satellite launches, gps navigation, personal\\ncommunicators, tellecommunications, new services, etc...  Jobs provided\\nin those sectors.\\n\\nJobs provided building the thing, balance of trade improvement, etc..\\nWe mentioned that skypix would benifit from lower launch costs.\\n\\nWe left the paper on what technologies needed to be invested in in order\\nto make this even easier to do.  And he asked questions on this point.\\n\\nWe ended by telling her that we wanted her to be aware that efforts are\\nproceeding in this area, and that we want to make sure that the\\nresults from these efforts are not lost (much like condor, or majellan),\\nand most importantly, we asked that she help fund further efforts along\\nthe lines of lowering the cost to LEO.\\n\\nIn the middle we also gave a little speal about the Lunar Resource Data \\nPurchase act, and the guy filed it separately, he was VERY interested in it.\\nHe asked some questions about it, and seemed like he wanted to jump on it,\\nand contact some of the people involved with it, so something may actually\\nhappen immediatly there.\\n\\nThe last two things we did were to make sure that they knew that we\\nknew a lot of people in the space arena here in town, and that they\\ncould feel free to call us any time with questions, and if we didn't know\\nthe answers, that we would see to it that they questions got to people who\\nreally did know the answers.\\n\\nThen finally, we asked for an appointment with the senator herself.  He\\nsaid that we would get on the list, and he also said that knowing her, this\\nwould be something that she would be very interested in, although they\\ndo have a time problem getting her scheduled, since she is only in the\\nstate 1 week out of 6 these days.\\n\\nAll in all we felt like we did a pretty good job.\\n\\n\\t\\t\\tJohn.\\n\""
      ]
     },
     "execution_count": 29,
     "metadata": {},
     "output_type": "execute_result"
    }
   ],
   "source": [
    "data.data[1]"
   ]
  },
  {
   "cell_type": "markdown",
   "id": "87d69d7f",
   "metadata": {},
   "source": [
    "IDF = $ \\log{\\frac{num\\_docs}{frequency}} $"
   ]
  },
  {
   "cell_type": "code",
   "execution_count": 30,
   "id": "1ccf1623",
   "metadata": {
    "ExecuteTime": {
     "end_time": "2023-05-10T18:36:52.741355Z",
     "start_time": "2023-05-10T18:36:52.734354Z"
    }
   },
   "outputs": [],
   "source": [
    "import numpy as np"
   ]
  },
  {
   "cell_type": "code",
   "execution_count": 31,
   "id": "572ac2db",
   "metadata": {
    "ExecuteTime": {
     "end_time": "2023-05-10T18:36:56.829317Z",
     "start_time": "2023-05-10T18:36:56.814314Z"
    }
   },
   "outputs": [
    {
     "data": {
      "text/plain": [
       "4.605170185988092"
      ]
     },
     "execution_count": 31,
     "metadata": {},
     "output_type": "execute_result"
    }
   ],
   "source": [
    "np.log(100)"
   ]
  },
  {
   "cell_type": "code",
   "execution_count": 32,
   "id": "563ad866",
   "metadata": {
    "ExecuteTime": {
     "end_time": "2023-05-10T18:37:26.216554Z",
     "start_time": "2023-05-10T18:37:26.205551Z"
    }
   },
   "outputs": [
    {
     "data": {
      "text/plain": [
       "2.995732273553991"
      ]
     },
     "execution_count": 32,
     "metadata": {},
     "output_type": "execute_result"
    }
   ],
   "source": [
    "np.log(20)"
   ]
  },
  {
   "cell_type": "code",
   "execution_count": 33,
   "id": "9eb4c648",
   "metadata": {
    "ExecuteTime": {
     "end_time": "2023-05-10T18:37:12.735522Z",
     "start_time": "2023-05-10T18:37:12.717518Z"
    }
   },
   "outputs": [
    {
     "data": {
      "text/plain": [
       "-2.995732273553991"
      ]
     },
     "execution_count": 33,
     "metadata": {},
     "output_type": "execute_result"
    }
   ],
   "source": [
    "np.log(0.05)"
   ]
  }
 ],
 "metadata": {
  "kernelspec": {
   "display_name": "Python 3 (ipykernel)",
   "language": "python",
   "name": "python3"
  },
  "language_info": {
   "codemirror_mode": {
    "name": "ipython",
    "version": 3
   },
   "file_extension": ".py",
   "mimetype": "text/x-python",
   "name": "python",
   "nbconvert_exporter": "python",
   "pygments_lexer": "ipython3",
   "version": "3.10.9"
  }
 },
 "nbformat": 4,
 "nbformat_minor": 5
}
